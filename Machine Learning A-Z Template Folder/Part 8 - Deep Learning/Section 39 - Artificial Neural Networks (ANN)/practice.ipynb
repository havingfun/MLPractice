{
 "cells": [
  {
   "cell_type": "code",
   "execution_count": 54,
   "metadata": {},
   "outputs": [],
   "source": [
    "import pandas as pd\n",
    "import numpy as np\n",
    "import matplotlib.pyplot as plt"
   ]
  },
  {
   "cell_type": "code",
   "execution_count": 55,
   "metadata": {},
   "outputs": [],
   "source": [
    "# Importing the dataset\n",
    "dataset = pd.read_csv('Churn_Modelling.csv')\n",
    "X = dataset.iloc[:, 3:13].values\n",
    "y = dataset.iloc[:, 13].values"
   ]
  },
  {
   "cell_type": "code",
   "execution_count": 56,
   "metadata": {},
   "outputs": [],
   "source": [
    "from sklearn.compose import ColumnTransformer\n",
    "from sklearn.preprocessing import LabelEncoder, OneHotEncoder\n",
    "labelEncoder_1 = LabelEncoder()\n",
    "X[:,1] = labelEncoder_1.fit_transform(X[:,1])\n",
    "labelEncoder_2 = LabelEncoder()\n",
    "X[:,2] = labelEncoder_1.fit_transform(X[:,2])"
   ]
  },
  {
   "cell_type": "code",
   "execution_count": 57,
   "metadata": {},
   "outputs": [
    {
     "data": {
      "text/plain": [
       "(10000, 11)"
      ]
     },
     "execution_count": 57,
     "metadata": {},
     "output_type": "execute_result"
    }
   ],
   "source": [
    "ct = ColumnTransformer([('encoder', OneHotEncoder(), [1])], remainder='passthrough', sparse_threshold=0)\n",
    "X = np.array(ct.fit_transform(X))\n",
    "X = X[:, 1:]\n",
    "X.shape"
   ]
  },
  {
   "cell_type": "code",
   "execution_count": 58,
   "metadata": {},
   "outputs": [],
   "source": [
    "from sklearn.model_selection import train_test_split\n",
    "X_train, X_test, y_train, y_test = train_test_split(X, y, test_size=0.2)"
   ]
  },
  {
   "cell_type": "code",
   "execution_count": 59,
   "metadata": {},
   "outputs": [],
   "source": [
    "from sklearn.preprocessing import StandardScaler\n",
    "scalar = StandardScaler()\n",
    "scalar.fit(X_train)\n",
    "X_train, X_test = scalar.transform(X_train), scalar.transform(X_test)"
   ]
  },
  {
   "cell_type": "code",
   "execution_count": 60,
   "metadata": {},
   "outputs": [],
   "source": [
    "import tensorflow as tf"
   ]
  },
  {
   "cell_type": "code",
   "execution_count": null,
   "metadata": {},
   "outputs": [],
   "source": []
  },
  {
   "cell_type": "code",
   "execution_count": 61,
   "metadata": {},
   "outputs": [],
   "source": [
    "from keras import Sequential\n",
    "from keras.layers import Dense\n",
    "classifier = Sequential()\n",
    "classifier.add(Dense(6, input_shape=(11,), activation = 'relu'))\n",
    "classifier.add(Dense(6, activation = 'relu'))\n",
    "classifier.add(Dense(1, activation = 'sigmoid'))\n",
    "classifier.compile(optimizer=tf.train.AdagradOptimizer(0.01), loss='binary_crossentropy', metrics=['accuracy'])"
   ]
  },
  {
   "cell_type": "code",
   "execution_count": 67,
   "metadata": {},
   "outputs": [],
   "source": []
  },
  {
   "cell_type": "code",
   "execution_count": 68,
   "metadata": {},
   "outputs": [],
   "source": []
  },
  {
   "cell_type": "code",
   "execution_count": 64,
   "metadata": {},
   "outputs": [
    {
     "name": "stderr",
     "output_type": "stream",
     "text": [
      "/Users/rkumar/anaconda2/envs/py3/lib/python3.7/site-packages/ipykernel_launcher.py:2: UserWarning: The `nb_epoch` argument in `fit` has been renamed `epochs`.\n",
      "  \n"
     ]
    },
    {
     "name": "stdout",
     "output_type": "stream",
     "text": [
      "WARNING:tensorflow:From /Users/rkumar/anaconda2/envs/py3/lib/python3.7/site-packages/keras/backend/tensorflow_backend.py:986: The name tf.assign_add is deprecated. Please use tf.compat.v1.assign_add instead.\n",
      "\n",
      "WARNING:tensorflow:From /Users/rkumar/anaconda2/envs/py3/lib/python3.7/site-packages/tensorflow_core/python/training/adagrad.py:76: calling Constant.__init__ (from tensorflow.python.ops.init_ops) with dtype is deprecated and will be removed in a future version.\n",
      "Instructions for updating:\n",
      "Call initializer instance with the dtype argument instead of passing it to the constructor\n",
      "WARNING:tensorflow:From /Users/rkumar/anaconda2/envs/py3/lib/python3.7/site-packages/keras/backend/tensorflow_backend.py:2741: The name tf.Session is deprecated. Please use tf.compat.v1.Session instead.\n",
      "\n",
      "Epoch 1/100\n",
      "WARNING:tensorflow:From /Users/rkumar/anaconda2/envs/py3/lib/python3.7/site-packages/keras/backend/tensorflow_backend.py:174: The name tf.get_default_session is deprecated. Please use tf.compat.v1.get_default_session instead.\n",
      "\n",
      "WARNING:tensorflow:From /Users/rkumar/anaconda2/envs/py3/lib/python3.7/site-packages/keras/backend/tensorflow_backend.py:181: The name tf.ConfigProto is deprecated. Please use tf.compat.v1.ConfigProto instead.\n",
      "\n",
      "WARNING:tensorflow:From /Users/rkumar/anaconda2/envs/py3/lib/python3.7/site-packages/keras/backend/tensorflow_backend.py:190: The name tf.global_variables is deprecated. Please use tf.compat.v1.global_variables instead.\n",
      "\n",
      "WARNING:tensorflow:From /Users/rkumar/anaconda2/envs/py3/lib/python3.7/site-packages/keras/backend/tensorflow_backend.py:199: The name tf.is_variable_initialized is deprecated. Please use tf.compat.v1.is_variable_initialized instead.\n",
      "\n",
      "WARNING:tensorflow:From /Users/rkumar/anaconda2/envs/py3/lib/python3.7/site-packages/keras/backend/tensorflow_backend.py:206: The name tf.variables_initializer is deprecated. Please use tf.compat.v1.variables_initializer instead.\n",
      "\n",
      "8000/8000 [==============================] - 3s 340us/step - loss: 0.6127 - acc: 0.7952\n",
      "Epoch 2/100\n",
      "8000/8000 [==============================] - 1s 173us/step - loss: 0.5435 - acc: 0.7957\n",
      "Epoch 3/100\n",
      "8000/8000 [==============================] - 1s 177us/step - loss: 0.5039 - acc: 0.7957\n",
      "Epoch 4/100\n",
      "8000/8000 [==============================] - 1s 164us/step - loss: 0.4653 - acc: 0.7957\n",
      "Epoch 5/100\n",
      "8000/8000 [==============================] - 1s 158us/step - loss: 0.4408 - acc: 0.7957\n",
      "Epoch 6/100\n",
      "8000/8000 [==============================] - 1s 156us/step - loss: 0.4295 - acc: 0.7957\n",
      "Epoch 7/100\n",
      "8000/8000 [==============================] - 1s 172us/step - loss: 0.4235 - acc: 0.7967\n",
      "Epoch 8/100\n",
      "8000/8000 [==============================] - 1s 161us/step - loss: 0.4198 - acc: 0.8055\n",
      "Epoch 9/100\n",
      "8000/8000 [==============================] - 1s 164us/step - loss: 0.4168 - acc: 0.8140\n",
      "Epoch 10/100\n",
      "8000/8000 [==============================] - 1s 157us/step - loss: 0.4139 - acc: 0.8161\n",
      "Epoch 11/100\n",
      "8000/8000 [==============================] - 1s 162us/step - loss: 0.4111 - acc: 0.8196\n",
      "Epoch 12/100\n",
      "8000/8000 [==============================] - 1s 163us/step - loss: 0.4083 - acc: 0.8227\n",
      "Epoch 13/100\n",
      "8000/8000 [==============================] - 1s 156us/step - loss: 0.4055 - acc: 0.8249\n",
      "Epoch 14/100\n",
      "8000/8000 [==============================] - 1s 158us/step - loss: 0.4027 - acc: 0.8277\n",
      "Epoch 15/100\n",
      "8000/8000 [==============================] - 1s 174us/step - loss: 0.3999 - acc: 0.8299\n",
      "Epoch 16/100\n",
      "8000/8000 [==============================] - 1s 177us/step - loss: 0.3974 - acc: 0.8317\n",
      "Epoch 17/100\n",
      "8000/8000 [==============================] - 1s 172us/step - loss: 0.3949 - acc: 0.8331\n",
      "Epoch 18/100\n",
      "8000/8000 [==============================] - 1s 173us/step - loss: 0.3926 - acc: 0.8349\n",
      "Epoch 19/100\n",
      "8000/8000 [==============================] - 1s 163us/step - loss: 0.3904 - acc: 0.8364\n",
      "Epoch 20/100\n",
      "8000/8000 [==============================] - 1s 170us/step - loss: 0.3883 - acc: 0.8390\n",
      "Epoch 21/100\n",
      "8000/8000 [==============================] - 1s 164us/step - loss: 0.3862 - acc: 0.8397\n",
      "Epoch 22/100\n",
      "8000/8000 [==============================] - 1s 162us/step - loss: 0.3842 - acc: 0.8404\n",
      "Epoch 23/100\n",
      "8000/8000 [==============================] - 1s 163us/step - loss: 0.3823 - acc: 0.8400\n",
      "Epoch 24/100\n",
      "8000/8000 [==============================] - 2s 190us/step - loss: 0.3805 - acc: 0.8412\n",
      "Epoch 25/100\n",
      "8000/8000 [==============================] - 2s 198us/step - loss: 0.3787 - acc: 0.8420\n",
      "Epoch 26/100\n",
      "8000/8000 [==============================] - 2s 217us/step - loss: 0.3770 - acc: 0.8435\n",
      "Epoch 27/100\n",
      "8000/8000 [==============================] - 1s 183us/step - loss: 0.3753 - acc: 0.8440\n",
      "Epoch 28/100\n",
      "8000/8000 [==============================] - 2s 208us/step - loss: 0.3738 - acc: 0.8456\n",
      "Epoch 29/100\n",
      "8000/8000 [==============================] - 1s 178us/step - loss: 0.3722 - acc: 0.8465\n",
      "Epoch 30/100\n",
      "8000/8000 [==============================] - 2s 214us/step - loss: 0.3708 - acc: 0.8466\n",
      "Epoch 31/100\n",
      "8000/8000 [==============================] - 1s 169us/step - loss: 0.3694 - acc: 0.8471\n",
      "Epoch 32/100\n",
      "8000/8000 [==============================] - 1s 162us/step - loss: 0.3681 - acc: 0.8487\n",
      "Epoch 33/100\n",
      "8000/8000 [==============================] - 1s 158us/step - loss: 0.3669 - acc: 0.8486\n",
      "Epoch 34/100\n",
      "8000/8000 [==============================] - 1s 160us/step - loss: 0.3657 - acc: 0.8491\n",
      "Epoch 35/100\n",
      "8000/8000 [==============================] - 2s 188us/step - loss: 0.3645 - acc: 0.8497\n",
      "Epoch 36/100\n",
      "8000/8000 [==============================] - 2s 200us/step - loss: 0.3634 - acc: 0.8501\n",
      "Epoch 37/100\n",
      "8000/8000 [==============================] - 2s 206us/step - loss: 0.3624 - acc: 0.8516\n",
      "Epoch 38/100\n",
      "8000/8000 [==============================] - 1s 178us/step - loss: 0.3613 - acc: 0.8512\n",
      "Epoch 39/100\n",
      "8000/8000 [==============================] - 1s 177us/step - loss: 0.3604 - acc: 0.8527\n",
      "Epoch 40/100\n",
      "8000/8000 [==============================] - 1s 165us/step - loss: 0.3594 - acc: 0.8531\n",
      "Epoch 41/100\n",
      "8000/8000 [==============================] - 1s 164us/step - loss: 0.3586 - acc: 0.8551\n",
      "Epoch 42/100\n",
      "8000/8000 [==============================] - 1s 166us/step - loss: 0.3578 - acc: 0.8556\n",
      "Epoch 43/100\n",
      "8000/8000 [==============================] - 1s 175us/step - loss: 0.3571 - acc: 0.8557\n",
      "Epoch 44/100\n",
      "8000/8000 [==============================] - 2s 218us/step - loss: 0.3563 - acc: 0.8567\n",
      "Epoch 45/100\n",
      "8000/8000 [==============================] - 2s 195us/step - loss: 0.3557 - acc: 0.8559\n",
      "Epoch 46/100\n",
      "8000/8000 [==============================] - 1s 170us/step - loss: 0.3550 - acc: 0.8576\n",
      "Epoch 47/100\n",
      "8000/8000 [==============================] - 1s 179us/step - loss: 0.3544 - acc: 0.8570\n",
      "Epoch 48/100\n",
      "8000/8000 [==============================] - 1s 171us/step - loss: 0.3538 - acc: 0.8589\n",
      "Epoch 49/100\n",
      "8000/8000 [==============================] - 2s 225us/step - loss: 0.3533 - acc: 0.8589\n",
      "Epoch 50/100\n",
      "8000/8000 [==============================] - 1s 177us/step - loss: 0.3527 - acc: 0.8585\n",
      "Epoch 51/100\n",
      "8000/8000 [==============================] - 1s 173us/step - loss: 0.3522 - acc: 0.8590\n",
      "Epoch 52/100\n",
      "8000/8000 [==============================] - 1s 168us/step - loss: 0.3516 - acc: 0.8590\n",
      "Epoch 53/100\n",
      "8000/8000 [==============================] - 1s 166us/step - loss: 0.3511 - acc: 0.8591\n",
      "Epoch 54/100\n",
      "8000/8000 [==============================] - 1s 165us/step - loss: 0.3506 - acc: 0.8600\n",
      "Epoch 55/100\n",
      "8000/8000 [==============================] - 1s 155us/step - loss: 0.3502 - acc: 0.8597\n",
      "Epoch 56/100\n",
      "8000/8000 [==============================] - 1s 155us/step - loss: 0.3498 - acc: 0.8607\n",
      "Epoch 57/100\n",
      "8000/8000 [==============================] - 1s 165us/step - loss: 0.3493 - acc: 0.8612\n",
      "Epoch 58/100\n",
      "8000/8000 [==============================] - 1s 159us/step - loss: 0.3489 - acc: 0.8607\n",
      "Epoch 59/100\n",
      "8000/8000 [==============================] - 1s 158us/step - loss: 0.3485 - acc: 0.8601\n",
      "Epoch 60/100\n",
      "8000/8000 [==============================] - 1s 160us/step - loss: 0.3482 - acc: 0.8605\n",
      "Epoch 61/100\n",
      "8000/8000 [==============================] - 1s 160us/step - loss: 0.3478 - acc: 0.8604\n",
      "Epoch 62/100\n",
      "8000/8000 [==============================] - 1s 165us/step - loss: 0.3475 - acc: 0.8597\n",
      "Epoch 63/100\n",
      "8000/8000 [==============================] - 1s 159us/step - loss: 0.3471 - acc: 0.8614\n",
      "Epoch 64/100\n",
      "8000/8000 [==============================] - 1s 157us/step - loss: 0.3468 - acc: 0.8615\n",
      "Epoch 65/100\n",
      "8000/8000 [==============================] - 1s 161us/step - loss: 0.3465 - acc: 0.8610\n",
      "Epoch 66/100\n",
      "8000/8000 [==============================] - 1s 158us/step - loss: 0.3462 - acc: 0.8614\n",
      "Epoch 67/100\n",
      "8000/8000 [==============================] - 1s 156us/step - loss: 0.3459 - acc: 0.8602\n",
      "Epoch 68/100\n",
      "8000/8000 [==============================] - 1s 157us/step - loss: 0.3456 - acc: 0.8609\n",
      "Epoch 69/100\n",
      "8000/8000 [==============================] - 1s 156us/step - loss: 0.3454 - acc: 0.8609\n",
      "Epoch 70/100\n",
      "8000/8000 [==============================] - 1s 167us/step - loss: 0.3451 - acc: 0.8620\n",
      "Epoch 71/100\n",
      "8000/8000 [==============================] - 1s 159us/step - loss: 0.3449 - acc: 0.8610\n",
      "Epoch 72/100\n",
      "8000/8000 [==============================] - 1s 166us/step - loss: 0.3446 - acc: 0.8616\n",
      "Epoch 73/100\n",
      "8000/8000 [==============================] - 1s 160us/step - loss: 0.3444 - acc: 0.8614\n",
      "Epoch 74/100\n",
      "8000/8000 [==============================] - 1s 159us/step - loss: 0.3442 - acc: 0.8615\n",
      "Epoch 75/100\n",
      "8000/8000 [==============================] - 1s 161us/step - loss: 0.3440 - acc: 0.8619\n",
      "Epoch 76/100\n",
      "8000/8000 [==============================] - 1s 157us/step - loss: 0.3438 - acc: 0.8612\n",
      "Epoch 77/100\n",
      "8000/8000 [==============================] - 1s 160us/step - loss: 0.3436 - acc: 0.8605\n",
      "Epoch 78/100\n",
      "8000/8000 [==============================] - 1s 161us/step - loss: 0.3434 - acc: 0.8607\n",
      "Epoch 79/100\n",
      "8000/8000 [==============================] - 1s 158us/step - loss: 0.3432 - acc: 0.8616\n",
      "Epoch 80/100\n",
      "8000/8000 [==============================] - 1s 158us/step - loss: 0.3431 - acc: 0.8616\n",
      "Epoch 81/100\n",
      "8000/8000 [==============================] - 1s 160us/step - loss: 0.3429 - acc: 0.8615\n",
      "Epoch 82/100\n",
      "8000/8000 [==============================] - 1s 160us/step - loss: 0.3428 - acc: 0.8615\n",
      "Epoch 83/100\n",
      "8000/8000 [==============================] - 1s 161us/step - loss: 0.3426 - acc: 0.8615\n",
      "Epoch 84/100\n",
      "8000/8000 [==============================] - 1s 163us/step - loss: 0.3425 - acc: 0.8616 0s - loss: 0.3446 - \n",
      "Epoch 85/100\n",
      "8000/8000 [==============================] - 1s 160us/step - loss: 0.3423 - acc: 0.8622\n",
      "Epoch 86/100\n",
      "8000/8000 [==============================] - 1s 161us/step - loss: 0.3422 - acc: 0.8615\n",
      "Epoch 87/100\n",
      "8000/8000 [==============================] - 1s 174us/step - loss: 0.3421 - acc: 0.8622\n",
      "Epoch 88/100\n",
      "8000/8000 [==============================] - 1s 159us/step - loss: 0.3419 - acc: 0.8620\n",
      "Epoch 89/100\n",
      "8000/8000 [==============================] - 1s 164us/step - loss: 0.3418 - acc: 0.8615\n",
      "Epoch 90/100\n",
      "8000/8000 [==============================] - 1s 165us/step - loss: 0.3417 - acc: 0.8616\n",
      "Epoch 91/100\n",
      "8000/8000 [==============================] - 1s 161us/step - loss: 0.3416 - acc: 0.8622\n",
      "Epoch 92/100\n",
      "8000/8000 [==============================] - 1s 177us/step - loss: 0.3415 - acc: 0.8620 0s - loss: 0.3\n",
      "Epoch 93/100\n",
      "8000/8000 [==============================] - 1s 170us/step - loss: 0.3414 - acc: 0.8626\n",
      "Epoch 94/100\n",
      "8000/8000 [==============================] - 1s 170us/step - loss: 0.3413 - acc: 0.8621\n",
      "Epoch 95/100\n",
      "8000/8000 [==============================] - 1s 167us/step - loss: 0.3412 - acc: 0.8622\n",
      "Epoch 96/100\n",
      "8000/8000 [==============================] - 1s 166us/step - loss: 0.3411 - acc: 0.8622\n",
      "Epoch 97/100\n",
      "8000/8000 [==============================] - 1s 167us/step - loss: 0.3410 - acc: 0.8630\n",
      "Epoch 98/100\n",
      "8000/8000 [==============================] - 1s 163us/step - loss: 0.3409 - acc: 0.8629\n",
      "Epoch 99/100\n",
      "8000/8000 [==============================] - 1s 158us/step - loss: 0.3409 - acc: 0.8626\n",
      "Epoch 100/100\n",
      "8000/8000 [==============================] - 1s 162us/step - loss: 0.3408 - acc: 0.8627\n"
     ]
    },
    {
     "data": {
      "text/plain": [
       "<keras.callbacks.History at 0x1a6212bd90>"
      ]
     },
     "execution_count": 64,
     "metadata": {},
     "output_type": "execute_result"
    }
   ],
   "source": [
    "# Fitting the ANN to the Training set\n",
    "classifier.fit(X_train, y_train, batch_size = 10, nb_epoch = 100)"
   ]
  },
  {
   "cell_type": "code",
   "execution_count": 65,
   "metadata": {},
   "outputs": [],
   "source": [
    "# Predicting the Test set results\n",
    "y_pred = classifier.predict(X_test)\n",
    "y_pred = (y_pred > 0.5)\n",
    "\n",
    "# Making the Confusion Matrix\n",
    "from sklearn.metrics import confusion_matrix\n",
    "cm = confusion_matrix(y_test, y_pred)"
   ]
  },
  {
   "cell_type": "code",
   "execution_count": 66,
   "metadata": {},
   "outputs": [
    {
     "data": {
      "text/plain": [
       "array([[1546,   51],\n",
       "       [ 229,  174]])"
      ]
     },
     "execution_count": 66,
     "metadata": {},
     "output_type": "execute_result"
    }
   ],
   "source": [
    "cm"
   ]
  },
  {
   "cell_type": "code",
   "execution_count": null,
   "metadata": {},
   "outputs": [],
   "source": []
  }
 ],
 "metadata": {
  "kernelspec": {
   "display_name": "Python 3",
   "language": "python",
   "name": "python3"
  },
  "language_info": {
   "codemirror_mode": {
    "name": "ipython",
    "version": 3
   },
   "file_extension": ".py",
   "mimetype": "text/x-python",
   "name": "python",
   "nbconvert_exporter": "python",
   "pygments_lexer": "ipython3",
   "version": "3.7.5"
  }
 },
 "nbformat": 4,
 "nbformat_minor": 4
}
