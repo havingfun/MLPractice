{
 "cells": [
  {
   "cell_type": "code",
   "execution_count": 1,
   "metadata": {},
   "outputs": [],
   "source": [
    "import numpy as np\n",
    "import pandas as pd\n",
    "import matplotlib.pyplot as plt"
   ]
  },
  {
   "cell_type": "code",
   "execution_count": 7,
   "metadata": {},
   "outputs": [],
   "source": [
    "from keras.models import Sequential\n",
    "from keras.layers import Conv2D\n",
    "from keras.layers import MaxPool2D\n",
    "from keras.layers import Dense\n",
    "from keras.layers import Flatten"
   ]
  },
  {
   "cell_type": "code",
   "execution_count": 35,
   "metadata": {},
   "outputs": [],
   "source": [
    "model = Sequential()\n",
    "model.add(Conv2D(32, (3, 3), input_shape = (64, 64, 3), activation = 'relu'))\n",
    "model.add(MaxPool2D(pool_size = (2, 2)))"
   ]
  },
  {
   "cell_type": "code",
   "execution_count": 26,
   "metadata": {},
   "outputs": [],
   "source": [
    "model.add(Conv2D(32, (3, 3), activation = 'relu'))\n",
    "model.add(MaxPool2D(pool_size = (2, 2)))"
   ]
  },
  {
   "cell_type": "code",
   "execution_count": 27,
   "metadata": {},
   "outputs": [],
   "source": [
    "model.add(Flatten())"
   ]
  },
  {
   "cell_type": "code",
   "execution_count": 28,
   "metadata": {},
   "outputs": [],
   "source": [
    "model.add(Dense(128, activation='relu'))\n",
    "model.add(Dense(2, activation='sigmoid'))"
   ]
  },
  {
   "cell_type": "code",
   "execution_count": 29,
   "metadata": {},
   "outputs": [],
   "source": [
    "model.compile(optimizer='adam', loss='binary_crossentropy', metrics=['accuracy'])"
   ]
  },
  {
   "cell_type": "code",
   "execution_count": 30,
   "metadata": {},
   "outputs": [
    {
     "name": "stdout",
     "output_type": "stream",
     "text": [
      "_________________________________________________________________\n",
      "Layer (type)                 Output Shape              Param #   \n",
      "=================================================================\n",
      "conv2d_8 (Conv2D)            (None, 62, 62, 32)        896       \n",
      "_________________________________________________________________\n",
      "max_pooling2d_6 (MaxPooling2 (None, 31, 31, 32)        0         \n",
      "_________________________________________________________________\n",
      "conv2d_9 (Conv2D)            (None, 29, 29, 32)        9248      \n",
      "_________________________________________________________________\n",
      "max_pooling2d_7 (MaxPooling2 (None, 14, 14, 32)        0         \n",
      "_________________________________________________________________\n",
      "flatten_2 (Flatten)          (None, 6272)              0         \n",
      "_________________________________________________________________\n",
      "dense_3 (Dense)              (None, 128)               802944    \n",
      "_________________________________________________________________\n",
      "dense_4 (Dense)              (None, 2)                 258       \n",
      "=================================================================\n",
      "Total params: 813,346\n",
      "Trainable params: 813,346\n",
      "Non-trainable params: 0\n",
      "_________________________________________________________________\n"
     ]
    }
   ],
   "source": [
    "model.summary()"
   ]
  },
  {
   "cell_type": "code",
   "execution_count": 31,
   "metadata": {},
   "outputs": [
    {
     "name": "stdout",
     "output_type": "stream",
     "text": [
      "Found 8000 images belonging to 2 classes.\n",
      "Found 2000 images belonging to 2 classes.\n"
     ]
    }
   ],
   "source": [
    "from keras.preprocessing.image import ImageDataGenerator\n",
    "\n",
    "train_datagen = ImageDataGenerator(rescale = 1./255,\n",
    "                                   shear_range = 0.2,\n",
    "                                   zoom_range = 0.2,\n",
    "                                   horizontal_flip = True)\n",
    "\n",
    "test_datagen = ImageDataGenerator(rescale = 1./255)\n",
    "\n",
    "training_set = train_datagen.flow_from_directory('dataset/training_set',\n",
    "                                                 target_size = (64, 64),\n",
    "                                                 batch_size = 32,\n",
    "                                                 class_mode = 'binary')\n",
    "\n",
    "test_set = test_datagen.flow_from_directory('dataset/test_set',\n",
    "                                            target_size = (64, 64),\n",
    "                                            batch_size = 32,\n",
    "                                            class_mode = 'binary')"
   ]
  },
  {
   "cell_type": "code",
   "execution_count": 33,
   "metadata": {},
   "outputs": [
    {
     "name": "stderr",
     "output_type": "stream",
     "text": [
      "/Users/rkumar/anaconda2/envs/py3/lib/python3.7/site-packages/ipykernel_launcher.py:5: UserWarning: Update your `Conv2D` call to the Keras 2 API: `Conv2D(32, (3, 3), input_shape=(64, 64, 3..., activation=\"relu\")`\n",
      "  \"\"\"\n",
      "/Users/rkumar/anaconda2/envs/py3/lib/python3.7/site-packages/ipykernel_launcher.py:11: UserWarning: Update your `Conv2D` call to the Keras 2 API: `Conv2D(32, (3, 3), activation=\"relu\")`\n",
      "  # This is added back by InteractiveShellApp.init_path()\n",
      "/Users/rkumar/anaconda2/envs/py3/lib/python3.7/site-packages/ipykernel_launcher.py:18: UserWarning: Update your `Dense` call to the Keras 2 API: `Dense(activation=\"relu\", units=128)`\n",
      "/Users/rkumar/anaconda2/envs/py3/lib/python3.7/site-packages/ipykernel_launcher.py:19: UserWarning: Update your `Dense` call to the Keras 2 API: `Dense(activation=\"sigmoid\", units=1)`\n"
     ]
    }
   ],
   "source": [
    "# Initialising the CNN\n",
    "classifier = Sequential()\n",
    "\n",
    "# Step 1 - Convolution\n",
    "classifier.add(Conv2D(32, (3, 3), activation=\"relu\", input_shape = (64, 64, 3)))\n",
    "\n",
    "# Step 2 - Pooling\n",
    "classifier.add(MaxPooling2D(pool_size = (2, 2)))\n",
    "\n",
    "# Adding a second convolutional layer\n",
    "classifier.add(Conv2D(32, (3, 3), activation=\"relu\"))\n",
    "classifier.add(MaxPooling2D(pool_size = (2, 2)))\n",
    "\n",
    "# Step 3 - Flattening\n",
    "classifier.add(Flatten())\n",
    "\n",
    "# Step 4 - Full connection\n",
    "classifier.add(Dense(output_dim = 128, activation = 'relu'))\n",
    "classifier.add(Dense(output_dim = 1, activation = 'sigmoid'))\n",
    "\n",
    "# Compiling the CNN\n",
    "classifier.compile(optimizer = 'adam', loss = 'binary_crossentropy', metrics = ['accuracy'])"
   ]
  },
  {
   "cell_type": "code",
   "execution_count": 34,
   "metadata": {},
   "outputs": [
    {
     "name": "stderr",
     "output_type": "stream",
     "text": [
      "/Users/rkumar/anaconda2/envs/py3/lib/python3.7/site-packages/ipykernel_launcher.py:5: UserWarning: The semantics of the Keras 2 argument `steps_per_epoch` is not the same as the Keras 1 argument `samples_per_epoch`. `steps_per_epoch` is the number of batches to draw from the generator at each epoch. Basically steps_per_epoch = samples_per_epoch/batch_size. Similarly `nb_val_samples`->`validation_steps` and `val_samples`->`steps` arguments have changed. Update your method calls accordingly.\n",
      "  \"\"\"\n",
      "/Users/rkumar/anaconda2/envs/py3/lib/python3.7/site-packages/ipykernel_launcher.py:5: UserWarning: Update your `fit_generator` call to the Keras 2 API: `fit_generator(<keras_pre..., validation_data=<keras_pre..., steps_per_epoch=250, epochs=25, validation_steps=2000)`\n",
      "  \"\"\"\n"
     ]
    },
    {
     "name": "stdout",
     "output_type": "stream",
     "text": [
      "Epoch 1/25\n",
      "WARNING:tensorflow:From /Users/rkumar/anaconda2/envs/py3/lib/python3.7/site-packages/keras/backend/tensorflow_backend.py:174: The name tf.get_default_session is deprecated. Please use tf.compat.v1.get_default_session instead.\n",
      "\n",
      "WARNING:tensorflow:From /Users/rkumar/anaconda2/envs/py3/lib/python3.7/site-packages/keras/backend/tensorflow_backend.py:181: The name tf.ConfigProto is deprecated. Please use tf.compat.v1.ConfigProto instead.\n",
      "\n",
      "WARNING:tensorflow:From /Users/rkumar/anaconda2/envs/py3/lib/python3.7/site-packages/keras/backend/tensorflow_backend.py:190: The name tf.global_variables is deprecated. Please use tf.compat.v1.global_variables instead.\n",
      "\n",
      "WARNING:tensorflow:From /Users/rkumar/anaconda2/envs/py3/lib/python3.7/site-packages/keras/backend/tensorflow_backend.py:199: The name tf.is_variable_initialized is deprecated. Please use tf.compat.v1.is_variable_initialized instead.\n",
      "\n",
      "WARNING:tensorflow:From /Users/rkumar/anaconda2/envs/py3/lib/python3.7/site-packages/keras/backend/tensorflow_backend.py:206: The name tf.variables_initializer is deprecated. Please use tf.compat.v1.variables_initializer instead.\n",
      "\n",
      "250/250 [==============================] - 180s 721ms/step - loss: 0.6474 - acc: 0.6210 - val_loss: 0.6368 - val_acc: 0.6543\n",
      "Epoch 2/25\n",
      "250/250 [==============================] - 176s 702ms/step - loss: 0.5876 - acc: 0.6886 - val_loss: 0.6612 - val_acc: 0.6515\n",
      "Epoch 3/25\n",
      "250/250 [==============================] - 182s 728ms/step - loss: 0.5514 - acc: 0.7144 - val_loss: 0.5423 - val_acc: 0.7302\n",
      "Epoch 4/25\n",
      "250/250 [==============================] - 177s 708ms/step - loss: 0.5160 - acc: 0.7480 - val_loss: 0.4920 - val_acc: 0.7674\n",
      "Epoch 5/25\n",
      "250/250 [==============================] - 190s 758ms/step - loss: 0.4850 - acc: 0.7625 - val_loss: 0.4829 - val_acc: 0.7695\n",
      "Epoch 6/25\n",
      "250/250 [==============================] - 192s 767ms/step - loss: 0.4754 - acc: 0.7783 - val_loss: 0.5025 - val_acc: 0.7532\n",
      "Epoch 7/25\n",
      "250/250 [==============================] - 253s 1s/step - loss: 0.4520 - acc: 0.7825 - val_loss: 0.4649 - val_acc: 0.7845\n",
      "Epoch 8/25\n",
      "250/250 [==============================] - 239s 956ms/step - loss: 0.4426 - acc: 0.7966 - val_loss: 0.4634 - val_acc: 0.7810\n",
      "Epoch 9/25\n",
      "250/250 [==============================] - 210s 841ms/step - loss: 0.4218 - acc: 0.8029 - val_loss: 0.5403 - val_acc: 0.7504\n",
      "Epoch 10/25\n",
      "250/250 [==============================] - 200s 801ms/step - loss: 0.4152 - acc: 0.8091 - val_loss: 0.4611 - val_acc: 0.7947\n",
      "Epoch 11/25\n",
      "250/250 [==============================] - 9040s 36s/step - loss: 0.4021 - acc: 0.8125 - val_loss: 0.4586 - val_acc: 0.7995\n",
      "Epoch 12/25\n",
      "250/250 [==============================] - 1330s 5s/step - loss: 0.3818 - acc: 0.8264 - val_loss: 0.4716 - val_acc: 0.7886\n",
      "Epoch 13/25\n",
      "250/250 [==============================] - 198s 793ms/step - loss: 0.3672 - acc: 0.8386 - val_loss: 0.5008 - val_acc: 0.7854\n",
      "Epoch 14/25\n",
      "250/250 [==============================] - 225s 901ms/step - loss: 0.3511 - acc: 0.8430 - val_loss: 0.4605 - val_acc: 0.7987\n",
      "Epoch 15/25\n",
      "250/250 [==============================] - 232s 928ms/step - loss: 0.3393 - acc: 0.8469 - val_loss: 0.4900 - val_acc: 0.7849\n",
      "Epoch 16/25\n",
      "250/250 [==============================] - 225s 900ms/step - loss: 0.3271 - acc: 0.8540 - val_loss: 0.4608 - val_acc: 0.8066\n",
      "Epoch 17/25\n",
      "250/250 [==============================] - 232s 928ms/step - loss: 0.3074 - acc: 0.8676 - val_loss: 0.4965 - val_acc: 0.7968\n",
      "Epoch 18/25\n",
      "250/250 [==============================] - 230s 919ms/step - loss: 0.2880 - acc: 0.8765 - val_loss: 0.5768 - val_acc: 0.7675\n",
      "Epoch 19/25\n",
      "250/250 [==============================] - 202s 806ms/step - loss: 0.2837 - acc: 0.8842 - val_loss: 0.4820 - val_acc: 0.7954\n",
      "Epoch 20/25\n",
      "250/250 [==============================] - 177s 708ms/step - loss: 0.2625 - acc: 0.8854 - val_loss: 0.5105 - val_acc: 0.8024\n",
      "Epoch 21/25\n",
      "250/250 [==============================] - 177s 709ms/step - loss: 0.2520 - acc: 0.8962 - val_loss: 0.5459 - val_acc: 0.7980\n",
      "Epoch 22/25\n",
      "250/250 [==============================] - 176s 706ms/step - loss: 0.2403 - acc: 0.9022 - val_loss: 0.5632 - val_acc: 0.7987\n",
      "Epoch 23/25\n",
      "250/250 [==============================] - 173s 693ms/step - loss: 0.2290 - acc: 0.9080 - val_loss: 0.5403 - val_acc: 0.7989\n",
      "Epoch 24/25\n",
      "250/250 [==============================] - 187s 748ms/step - loss: 0.2086 - acc: 0.9184 - val_loss: 0.6203 - val_acc: 0.7853\n",
      "Epoch 25/25\n",
      "250/250 [==============================] - 223s 892ms/step - loss: 0.2037 - acc: 0.9176 - val_loss: 0.5588 - val_acc: 0.8070\n"
     ]
    },
    {
     "data": {
      "text/plain": [
       "<keras.callbacks.History at 0x1a4da8e150>"
      ]
     },
     "execution_count": 34,
     "metadata": {},
     "output_type": "execute_result"
    }
   ],
   "source": [
    "classifier.fit_generator(training_set,\n",
    "                         samples_per_epoch = 8000,\n",
    "                         nb_epoch = 25,\n",
    "                         validation_data = test_set,\n",
    "                         nb_val_samples = 2000)"
   ]
  },
  {
   "cell_type": "code",
   "execution_count": null,
   "metadata": {},
   "outputs": [],
   "source": []
  }
 ],
 "metadata": {
  "kernelspec": {
   "display_name": "Python 3",
   "language": "python",
   "name": "python3"
  },
  "language_info": {
   "codemirror_mode": {
    "name": "ipython",
    "version": 3
   },
   "file_extension": ".py",
   "mimetype": "text/x-python",
   "name": "python",
   "nbconvert_exporter": "python",
   "pygments_lexer": "ipython3",
   "version": "3.7.5"
  }
 },
 "nbformat": 4,
 "nbformat_minor": 4
}
